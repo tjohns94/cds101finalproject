{
  "cells": [
    {
      "cell_type": "markdown",
      "metadata": {
        "id": "view-in-github",
        "colab_type": "text"
      },
      "source": [
        "<a href=\"https://colab.research.google.com/github/tjohns94/cds101finalproject/blob/main/Assignment_06_Instructions.ipynb\" target=\"_parent\"><img src=\"https://colab.research.google.com/assets/colab-badge.svg\" alt=\"Open In Colab\"/></a>"
      ]
    },
    {
      "cell_type": "markdown",
      "id": "c79f8052",
      "metadata": {
        "id": "c79f8052"
      },
      "source": [
        "***\n",
        "\n",
        "$\\textbf{CDS 230 Assignment 07}$\n",
        "\n",
        "$\\textbf{Spring 2024}$\n",
        "\n",
        "***"
      ]
    },
    {
      "cell_type": "markdown",
      "id": "7c3d3c53",
      "metadata": {
        "id": "7c3d3c53"
      },
      "source": [
        "\n",
        "\n",
        "Name:\n",
        "\n",
        "Date:\n",
        "\n",
        "***"
      ]
    },
    {
      "cell_type": "markdown",
      "id": "b5ed9d2e",
      "metadata": {
        "id": "b5ed9d2e"
      },
      "source": [
        "<div class=\"alert alert-block alert-warning\">\n",
        "Notes:\n",
        "\n",
        "Answer all the questions in the Jupyter Notebook template provided. Upload both a .pdf version of your Jupyter notebook as well as the .ipynb and any additional supplementary files on Blacboard to receive full credit for the submission.\n",
        "\n",
        "When instructed to use an f'string, you must substitute a variable or code into the f'string to answer the question. You cannot hand type in the value as part of the string.\n",
        "\n",
        "Make sure none of your code runs off of the page.\n",
        "\n",
        "Make sure that all your functions and classes have appropriate and descriptive docstrings.\n",
        "</div>"
      ]
    },
    {
      "cell_type": "markdown",
      "id": "7329c672",
      "metadata": {
        "id": "7329c672"
      },
      "source": [
        "***\n",
        "\n",
        "$\\text{Exercise 01}$<br>\n",
        "\n",
        "***"
      ]
    },
    {
      "cell_type": "markdown",
      "id": "eb4aecca",
      "metadata": {
        "id": "eb4aecca"
      },
      "source": [
        "&emsp;a) Write a function named kilometers_to_miles that converts distance from kilometers into miles, rounded to 2 decimal places. The function should accept one argument, kilometers, and return the f'string:\n",
        "\n",
        "    \"There are ______ miles in ______ kilometers\"\n",
        "\n",
        "&emsp;b) After you've created the function pass in 72.4 kilometers as the argument.\n",
        "\n",
        "    Note: There are 1.6 kilometers in a mile and 0.62 miles in a kilometer."
      ]
    },
    {
      "cell_type": "markdown",
      "id": "499957fd",
      "metadata": {
        "id": "499957fd"
      },
      "source": [
        "***\n",
        "\n",
        "$\\text{Answer 01 part a}$<br>\n",
        "\n",
        "***"
      ]
    },
    {
      "cell_type": "code",
      "execution_count": 2,
      "id": "c9fe16ff",
      "metadata": {
        "id": "c9fe16ff",
        "outputId": "86e5036a-792f-449b-9583-3df910e3a8eb",
        "colab": {
          "base_uri": "https://localhost:8080/",
          "height": 0
        }
      },
      "outputs": [
        {
          "output_type": "stream",
          "name": "stdout",
          "text": [
            "test wrap test wrap test wrap test wrap test wrap test wrap test wrap test wrap test wrap test wrap test wrap test wrap test wrap test wrap test wrap test wrap test wrap test wrap test wrap test wrap test wrap test wrap test wrap\n"
          ]
        }
      ],
      "source": [
        "print(\"test wrap test wrap test wrap test wrap test wrap test wrap test wrap test wrap test wrap test wrap test wrap test wrap test wrap test wrap test wrap test wrap test wrap test wrap test wrap test wrap test wrap test wrap test wrap\")"
      ]
    },
    {
      "cell_type": "code",
      "source": [
        "from google.colab import drive\n",
        "drive.mount('/content/drive')"
      ],
      "metadata": {
        "colab": {
          "base_uri": "https://localhost:8080/",
          "height": 0
        },
        "id": "R78zkauDtxoT",
        "outputId": "6b7bbc2e-50fd-481f-bfc0-42b08484ee17"
      },
      "id": "R78zkauDtxoT",
      "execution_count": 4,
      "outputs": [
        {
          "output_type": "stream",
          "name": "stdout",
          "text": [
            "Mounted at /content/drive\n"
          ]
        }
      ]
    },
    {
      "cell_type": "markdown",
      "id": "47688e41",
      "metadata": {
        "id": "47688e41"
      },
      "source": [
        "***\n",
        "\n",
        "$\\text{Answer 01 part b}$<br>\n",
        "\n",
        "***"
      ]
    },
    {
      "cell_type": "code",
      "execution_count": null,
      "id": "bed1e14f",
      "metadata": {
        "id": "bed1e14f",
        "colab": {
          "base_uri": "https://localhost:8080/"
        },
        "outputId": "f68f0a1e-6375-4707-e12d-fb492ada5e2c"
      },
      "outputs": [
        {
          "output_type": "stream",
          "name": "stdout",
          "text": [
            "Type in your valueinput\n",
            "input\n"
          ]
        }
      ],
      "source": [
        "our_val = input(\"Type in your value\")\n",
        "print(our_val)"
      ]
    },
    {
      "cell_type": "markdown",
      "id": "9756eb31",
      "metadata": {
        "id": "9756eb31"
      },
      "source": [
        "***\n",
        "\n",
        "$\\text{Exercise 02}$<br>\n",
        "\n",
        "***"
      ]
    },
    {
      "cell_type": "markdown",
      "id": "e40d9923",
      "metadata": {
        "id": "e40d9923"
      },
      "source": [
        "&emsp;a) Write a lambda function that performs the reverse calculation as Question 01 and converts miles into kilometers, rounded to 2 decimal places.\n",
        "\n",
        "&emsp;b) Save the lambda function to the variable m2k. Then, pass 28.6 miles into the lambda function as an argument."
      ]
    },
    {
      "cell_type": "markdown",
      "id": "32458936",
      "metadata": {
        "id": "32458936"
      },
      "source": [
        "***\n",
        "\n",
        "$\\text{Answer 02}$<br>\n",
        "\n",
        "***"
      ]
    },
    {
      "cell_type": "code",
      "source": [],
      "metadata": {
        "id": "Mui5LZ_6NHDq"
      },
      "id": "Mui5LZ_6NHDq",
      "execution_count": null,
      "outputs": []
    },
    {
      "cell_type": "markdown",
      "id": "92a7967b",
      "metadata": {
        "id": "92a7967b"
      },
      "source": [
        "***\n",
        "\n",
        "$\\text{Exercise 03}$<br>\n",
        "\n",
        "***"
      ]
    },
    {
      "cell_type": "markdown",
      "id": "0886f270",
      "metadata": {
        "id": "0886f270"
      },
      "source": [
        "&emsp;a) You are in your Fairfax year and decide to purchase a car. Create a function named expenses that calculates the *monthly* costs for the following expenses incurred from purchasing the automobile:\n",
        "\n",
        "    loan_payment, insurance, gas, oil, tires, maintenance\n",
        "\n",
        "The function should then return the total *annual* cost of these expenses and print the f-string:\n",
        "\n",
        "    \"The total annual car expenses are $___.\"\n",
        "\n",
        "&emsp;b) Then, pass the following monthly expenses as arguments into the function:\n",
        "\n",
        "    loan_payment = $825.00\n",
        "\n",
        "    insurance = $350.00\n",
        "\n",
        "    gas = $200.00\n",
        "\n",
        "    oil = $75.00\n",
        "\n",
        "    tires = $1000.00\n",
        "\n",
        "    maintenance = $250.00"
      ]
    },
    {
      "cell_type": "markdown",
      "id": "441c5eb5",
      "metadata": {
        "id": "441c5eb5"
      },
      "source": [
        "***\n",
        "\n",
        "$\\text{Answer 03 part a}$<br>\n",
        "\n",
        "***"
      ]
    },
    {
      "cell_type": "code",
      "execution_count": null,
      "id": "30631dbe",
      "metadata": {
        "id": "30631dbe"
      },
      "outputs": [],
      "source": []
    },
    {
      "cell_type": "markdown",
      "id": "8abf8c6c",
      "metadata": {
        "id": "8abf8c6c"
      },
      "source": [
        "***\n",
        "\n",
        "$\\text{Answer 03 part b}$<br>\n",
        "\n",
        "***"
      ]
    },
    {
      "cell_type": "code",
      "execution_count": null,
      "id": "506bd848",
      "metadata": {
        "id": "506bd848"
      },
      "outputs": [],
      "source": []
    },
    {
      "cell_type": "markdown",
      "id": "660c57c5",
      "metadata": {
        "id": "660c57c5"
      },
      "source": [
        "***\n",
        "\n",
        "$\\text{Exercise 04}$<br>\n",
        "\n",
        "***"
      ]
    },
    {
      "cell_type": "markdown",
      "id": "9715be42",
      "metadata": {
        "id": "9715be42"
      },
      "source": [
        "A nutritionist who works for a fitness club helps members by evaluating their diets. As part of their evaluation, they ask members for the number of fat grams, protein grams and carbohydrate grams that they consumed in a meal.\n",
        "\n",
        "First, they calculate the number of calories that result from fat using the following formula:\n",
        "\n",
        "    calories from fat = fat grams * 9\n",
        "\n",
        "Next, they calculate the number of calories that result from carbohydrates using the following formula:\n",
        "\n",
        "    calories from carbohydrates = carbohydrate grams * 4\n",
        "\n",
        "Then, they calculate the number of calories that result from protein using the following formula:\n",
        "\n",
        "    calories from protein = protein grams * 4\n",
        "\n",
        "Finally, they calculate the number of calories that result from any alcohol (if applicable) using the following formula:\n",
        "\n",
        "    calories from alcohol = alcohol grams * 7\n",
        "\n",
        "&emsp;a) Write a function named calories that will perform these calculations by taking in the arguments for the number of grams of fat, carbohydrates, protein and alcohol (in grams). The function should return and print an f-string with the number of calories from each macronutrient (fat, carbs, protein, alcohol) as well as the total combined calories, with each component clearly labeled. Since most food does not contain alcohol, the function should automatically pass in a value of 0 for the number of grams of alcohol unless a value is passed in as an argument. The output should be rounded to 1 decimal place.\n",
        "\n",
        "&emsp;b) Then, calculate how many calories there are in an order of chimaek. A typical order of chimaek consists of fried chicken, chicken mu, and beer. Consider the following components:\n",
        "\n",
        "    100 grams of fried chicken is composed of 16.2g of fat, 26.5g of\n",
        "    carbohydrates, and 10.8g of protein.\n",
        "\n",
        "    100 grams of chicken mu is composed of 0g of fat, 20.17g of\n",
        "    carbohydrates, and 0g of protein.\n",
        "\n",
        "    1 Terra beer is composed of 0g of fat, 24.5g of carbohydrates, 0g\n",
        "    of protein and 16.5g of alcohol."
      ]
    },
    {
      "cell_type": "markdown",
      "id": "93328fb8",
      "metadata": {
        "id": "93328fb8"
      },
      "source": [
        "***\n",
        "\n",
        "$\\text{Answer 04 part a}$<br>\n",
        "\n",
        "***"
      ]
    },
    {
      "cell_type": "code",
      "execution_count": null,
      "id": "3f02ee0d",
      "metadata": {
        "id": "3f02ee0d"
      },
      "outputs": [],
      "source": []
    },
    {
      "cell_type": "markdown",
      "id": "e5f4f674",
      "metadata": {
        "id": "e5f4f674"
      },
      "source": [
        "***\n",
        "\n",
        "$\\text{Answer 04 part b}$<br>\n",
        "\n",
        "***"
      ]
    },
    {
      "cell_type": "code",
      "execution_count": null,
      "id": "0b3e65ec",
      "metadata": {
        "id": "0b3e65ec"
      },
      "outputs": [],
      "source": []
    },
    {
      "cell_type": "markdown",
      "id": "80253396",
      "metadata": {
        "id": "80253396"
      },
      "source": [
        "***\n",
        "\n",
        "$\\text{Exercise 05}$<br>\n",
        "\n",
        "***"
      ]
    },
    {
      "cell_type": "markdown",
      "id": "fbce3f92",
      "metadata": {
        "id": "fbce3f92"
      },
      "source": [
        "There are three seating categories at a stadium:\n",
        "\n",
        "    Category A seats cost ₩ 750,000\n",
        "\n",
        "    Category B seats cost ₩ 500,000\n",
        "\n",
        "    Category C seats cost ₩ 250,000\n",
        "\n",
        "Create a function called seats that asks a user to input how many tickets of each seat category were sold and then displays the amount of income generated per seat category as well as the total income generated from all seat categories combined.\n",
        "\n",
        "Then, pass in the arguments of 1,873 category A seats, 8,394 category B seats, and 10,214 category C seats."
      ]
    },
    {
      "cell_type": "markdown",
      "id": "803e23ac",
      "metadata": {
        "id": "803e23ac"
      },
      "source": [
        "***\n",
        "\n",
        "$\\text{Answer 05 part a}$<br>\n",
        "\n",
        "***"
      ]
    },
    {
      "cell_type": "code",
      "execution_count": null,
      "id": "b9f945a3",
      "metadata": {
        "id": "b9f945a3"
      },
      "outputs": [],
      "source": []
    },
    {
      "cell_type": "markdown",
      "id": "21d8fbd7",
      "metadata": {
        "id": "21d8fbd7"
      },
      "source": [
        "***\n",
        "\n",
        "$\\text{Answer 05 part b}$<br>\n",
        "\n",
        "***"
      ]
    },
    {
      "cell_type": "code",
      "execution_count": null,
      "id": "bc0bbbe5",
      "metadata": {
        "id": "bc0bbbe5"
      },
      "outputs": [],
      "source": []
    },
    {
      "cell_type": "markdown",
      "id": "02db42c5",
      "metadata": {
        "id": "02db42c5"
      },
      "source": [
        "***\n",
        "\n",
        "$\\text{Exercise 06}$<br>\n",
        "\n",
        "***"
      ]
    },
    {
      "cell_type": "markdown",
      "id": "775cd756",
      "metadata": {
        "id": "775cd756"
      },
      "source": [
        "In physics, an object that is in motion is said to have kinetic energy (KE). The following formula can be used to determine a moving object's kinetic energy:\n",
        "\n",
        "   KE = $\\frac{1}{2} * m * v^2$\n",
        "\n",
        "Where:\n",
        "\n",
        "    KE is kinetic energy in joules\n",
        "\n",
        "    m is the object's mass in kg\n",
        "\n",
        "    v is the object's velocity in m/s\n",
        "\n",
        "Create a function named kinetic_energy that accepts an object's mass and velocity as arguments. The function should return the amount of kinetic energy (to 2 decimal places) the object has and print the f-string:\n",
        "\n",
        "    \"The kinetic energy for ___ kg and ___ m/s is ___ joules\"\n",
        "\n",
        "Then, calculate the amount of kinetic energy an 80kg person has running at a velocity of 3.3 m/s"
      ]
    },
    {
      "cell_type": "markdown",
      "id": "2ce9a541",
      "metadata": {
        "id": "2ce9a541"
      },
      "source": [
        "***\n",
        "\n",
        "$\\text{Answer 06}$<br>\n",
        "\n",
        "***"
      ]
    },
    {
      "cell_type": "code",
      "execution_count": null,
      "id": "64c6fa3f",
      "metadata": {
        "id": "64c6fa3f"
      },
      "outputs": [],
      "source": []
    },
    {
      "cell_type": "markdown",
      "id": "48a6d11e",
      "metadata": {
        "id": "48a6d11e"
      },
      "source": [
        "***\n",
        "\n",
        "$\\text{Exercise 07}$<br>\n",
        "\n",
        "***"
      ]
    },
    {
      "cell_type": "markdown",
      "id": "6161200e",
      "metadata": {
        "id": "6161200e"
      },
      "source": [
        "&emsp;a) Write a function called distance that takes as input a pair of coordinates (x, y). The function will compute the distance between the input coordinates (x, y) and the coordinates (-10, 5). The output of function should be a sentence printed as an f'string that states the distance between the two points. Round your answer to the nearest hundredths place.\n",
        "\n",
        "&emsp;b) Pass in the values x = 10 and y = -5\n",
        "\n",
        "\n",
        "The distance formula is $$d = \\sqrt{(x_2-x_1)^2 + (y_2-y_1)^2}$$"
      ]
    },
    {
      "cell_type": "markdown",
      "id": "6103d158",
      "metadata": {
        "id": "6103d158"
      },
      "source": [
        "***\n",
        "\n",
        "$\\text{Answer 07 part a}$<br>\n",
        "\n",
        "***"
      ]
    },
    {
      "cell_type": "code",
      "execution_count": null,
      "id": "a8fce584",
      "metadata": {
        "id": "a8fce584"
      },
      "outputs": [],
      "source": []
    },
    {
      "cell_type": "markdown",
      "id": "794ee926",
      "metadata": {
        "id": "794ee926"
      },
      "source": [
        "***\n",
        "\n",
        "$\\text{Answer 07 part b}$<br>\n",
        "\n",
        "***"
      ]
    },
    {
      "cell_type": "code",
      "execution_count": null,
      "id": "fbf9b84b",
      "metadata": {
        "id": "fbf9b84b"
      },
      "outputs": [],
      "source": []
    },
    {
      "cell_type": "markdown",
      "id": "f33b0795",
      "metadata": {
        "id": "f33b0795"
      },
      "source": [
        "***\n",
        "\n",
        "$\\text{Exercise 08}$<br>\n",
        "\n",
        "***"
      ]
    },
    {
      "cell_type": "markdown",
      "id": "6fae8cd8",
      "metadata": {
        "id": "6fae8cd8"
      },
      "source": [
        "When a raindrop falls from a cloud it accelerates until it reaches a terminal velocity, which is defined as the constant speed that a freely falling object eventually reaches when the resistance of the medium through which it is falling prevents further acceleration. An approximation for the terminal velocity v of a raindrop of radius r is: $$v(r) = \\frac{2r^2(ρ − σ)g}{9n}$$\n",
        "\n",
        "where:\n",
        "\n",
        "   ρ (rho) is the density of water, which is 1000 $kgm^3$\n",
        "    \n",
        "   σ (sigma) is the density of air, which is 1.2 $kgm^3$\n",
        "\n",
        "   g is the acceleration due to gravity, which is 9.8 $m/s^2$\n",
        "\n",
        "   n is the viscosity coefficient of air\n",
        "\n",
        "   r is the radius of the raindrop\n",
        "\n",
        "     \n",
        "     \n",
        "Your function will take in two arguments, r and η. In the function you will define the values of all the constants. Thus, in your function definition r and η are function parameters and g, ρ and σ are local variables with a fixed value.\n",
        "\n",
        "&emsp;a) Create a function called tv in which you calculate the terminal velocity for a raindrop rounded to 4 decimal places. The output should be an f'string that states:\n",
        "\n",
        "    The terminal velocity for a raindrop with a radius of ____ meters is ____ m/s\n",
        "\n",
        "&emsp;b) Calculate the terminal velocity for a raindrop that has a radius of 0.025mm and the viscosity coefficient of air is $1.8 * 10^{-5}$\n",
        "\n",
        "<div class=\"alert alert-block alert-warning\">\n",
        "\n",
        "Note: make sure use use a consistent system of units. In science we use the MKS system where all units are converted to a standard system involving Meters, Kilograms, Seconds. It is important that yo do the unit conversions before starting the calculations so that your function works in MKS units. Therefore, convert r units from mm to m before passing it to the function.\n",
        "    \n",
        "</div>"
      ]
    },
    {
      "cell_type": "markdown",
      "id": "ed5f0372",
      "metadata": {
        "id": "ed5f0372"
      },
      "source": [
        "***\n",
        "\n",
        "$\\text{Answer 08 part a}$<br>\n",
        "\n",
        "***"
      ]
    },
    {
      "cell_type": "code",
      "execution_count": null,
      "id": "dc7ddea8",
      "metadata": {
        "id": "dc7ddea8"
      },
      "outputs": [],
      "source": []
    },
    {
      "cell_type": "markdown",
      "id": "ac68755a",
      "metadata": {
        "id": "ac68755a"
      },
      "source": [
        "***\n",
        "\n",
        "$\\text{Answer 08 part b}$<br>\n",
        "\n",
        "***"
      ]
    },
    {
      "cell_type": "code",
      "execution_count": null,
      "id": "676a101b",
      "metadata": {
        "id": "676a101b"
      },
      "outputs": [],
      "source": []
    },
    {
      "cell_type": "markdown",
      "id": "bfb218bf",
      "metadata": {
        "id": "bfb218bf"
      },
      "source": [
        "***\n",
        "\n",
        "$\\text{Exercise 09}$<br>\n",
        "\n",
        "***"
      ]
    },
    {
      "cell_type": "markdown",
      "id": "9fd4cf42",
      "metadata": {
        "id": "9fd4cf42"
      },
      "source": [
        "&emsp;a) Create a function called cube_root that will accept a variable number of arguments. The function should take the cube root of all the arguments passed into it and return those values as a list of values carried out 2 decimal places.\n",
        "\n",
        "&emsp;b) Pass in the values 10648, 27, 132651, 1728, 46656, 125 as a single list."
      ]
    },
    {
      "cell_type": "markdown",
      "id": "56b085fb",
      "metadata": {
        "id": "56b085fb"
      },
      "source": [
        "***\n",
        "\n",
        "$\\text{Answer 09 part a}$<br>\n",
        "\n",
        "***"
      ]
    },
    {
      "cell_type": "code",
      "execution_count": null,
      "id": "9e978b4a",
      "metadata": {
        "id": "9e978b4a"
      },
      "outputs": [],
      "source": []
    },
    {
      "cell_type": "markdown",
      "id": "d334eafb",
      "metadata": {
        "id": "d334eafb"
      },
      "source": [
        "***\n",
        "\n",
        "$\\text{Answer 09 part b}$<br>\n",
        "\n",
        "***"
      ]
    },
    {
      "cell_type": "code",
      "execution_count": null,
      "id": "441a2ad6",
      "metadata": {
        "id": "441a2ad6"
      },
      "outputs": [],
      "source": []
    },
    {
      "cell_type": "markdown",
      "id": "512d66ba",
      "metadata": {
        "id": "512d66ba"
      },
      "source": [
        "***\n",
        "\n",
        "$\\text{Exercise 10}$<br>\n",
        "\n",
        "***"
      ]
    },
    {
      "cell_type": "markdown",
      "id": "43ecf651",
      "metadata": {
        "id": "43ecf651"
      },
      "source": [
        "You have a list of temperatures in Celsius and you want to convert them to Fahrenheit. Write a Python function called convert_to_fahrenheit that takes a list of temperatures in Celsius and returns a list of temperatures in Fahrenheit.\n",
        "\n",
        "Use the map function to apply this conversion to the following temperatures: 23.4, 30.2, 18.7, 35.1, 15.9, 22.8, 26.2, 21.3, 24.8, 30.0, 20.2, 23.7, 32.9, 19.2, 26.0, 29.8, 21.1, 31.3, 25.1, 28.7 and print out the output. Round the output values to the nearest hundredths place."
      ]
    },
    {
      "cell_type": "markdown",
      "id": "05a8b0c6",
      "metadata": {
        "id": "05a8b0c6"
      },
      "source": [
        "***\n",
        "\n",
        "$\\text{Answer 10}$<br>\n",
        "\n",
        "***"
      ]
    },
    {
      "cell_type": "code",
      "execution_count": null,
      "id": "f9869736",
      "metadata": {
        "id": "f9869736"
      },
      "outputs": [],
      "source": []
    }
  ],
  "metadata": {
    "kernelspec": {
      "display_name": "Python 3 (ipykernel)",
      "language": "python",
      "name": "python3"
    },
    "language_info": {
      "codemirror_mode": {
        "name": "ipython",
        "version": 3
      },
      "file_extension": ".py",
      "mimetype": "text/x-python",
      "name": "python",
      "nbconvert_exporter": "python",
      "pygments_lexer": "ipython3",
      "version": "3.11.9"
    },
    "colab": {
      "provenance": [],
      "include_colab_link": true
    }
  },
  "nbformat": 4,
  "nbformat_minor": 5
}